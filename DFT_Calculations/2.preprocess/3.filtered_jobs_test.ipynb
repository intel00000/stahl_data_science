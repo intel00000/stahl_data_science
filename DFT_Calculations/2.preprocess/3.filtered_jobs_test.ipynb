{
 "cells": [
  {
   "cell_type": "markdown",
   "metadata": {},
   "source": [
    "### <p style=\"font-family: Arial; color: gold; \"> If you want, you can filter down the jobs for open shell and anion jobs by using only the lowest energy conformer for each molecule. This notebook will do that based on the FINISHED DFT results.\n",
    "\n",
    "### <p style=\"font-family: Arial; color: red; \">Requirement: put the finished DFT results for the closed shell species into a subfolders named **3.DFT_log_files**\n",
    "\n",
    "### <p style=\"font-family: Arial; color: red; \"> You should have the same naming convention all the folder being used."
   ]
  },
  {
   "cell_type": "code",
   "execution_count": 1,
   "metadata": {},
   "outputs": [],
   "source": [
    "import re, os, sys, shutil, subprocess"
   ]
  },
  {
   "cell_type": "markdown",
   "metadata": {},
   "source": [
    "### <p style=\"font-family: Arial; color: gold; font-weight: bold;\"> define your input and output folders below"
   ]
  },
  {
   "cell_type": "code",
   "execution_count": 2,
   "metadata": {},
   "outputs": [],
   "source": [
    "# define your desired folder names here\n",
    "DFT_log_folder = \"1.DFT_log_files\"\n",
    "\n",
    "filter_anion = True\n",
    "input_anion_com_folder = \"2.anion_com\"\n",
    "output_anion_com = \"3.anion_com_filtered\"\n",
    "\n",
    "filter_open_shell = True\n",
    "input_open_shell_com_folder = \"1.open_shell_com\"\n",
    "output_open_shell_com = \"3.open_shell_com_filtered\""
   ]
  },
  {
   "cell_type": "code",
   "execution_count": 3,
   "metadata": {},
   "outputs": [],
   "source": [
    "def parse_goodvibes_output(output: str, temp: float = 298.15) -> dict:\n",
    "    # This function extracts the desired values from the GoodVibes output\n",
    "    lines = output.splitlines()\n",
    "    data = {}\n",
    "    column_mapping = {\n",
    "        \"E_SPC\": \"E_spc (Hartree)\",\n",
    "        \"E\": \"E (Hartree)\",\n",
    "        \"ZPE\": \"ZPE(Hartree)\",\n",
    "        \"H_SPC\": \"H_spc(Hartree)\",\n",
    "        \"T.S\": \"T*S\",\n",
    "        \"T.qh-S\": \"T*qh_S\",\n",
    "        \"G(T)_SPC\": \"G(T)_spc(Hartree)\",\n",
    "        \"qh-G(T)_SPC\": \"qh_G(T)_spc(Hartree)\",\n",
    "    }\n",
    "\n",
    "    # Find the index positions of the two lines of asterisks\n",
    "    start_index = None\n",
    "    end_index = None\n",
    "    header_line = None\n",
    "    for i, line in enumerate(lines):\n",
    "        if re.match(r\"^\\s*\\*{12,}\\s*$\", line):  # Matches lines with 12 or more asterisks\n",
    "            if start_index is None:\n",
    "                start_index = i\n",
    "                header_line = lines[i - 1]  # The header line is the one before the first line of asterisks\n",
    "            else:\n",
    "                end_index = i\n",
    "                break  # We only need the first two lines of asterisks\n",
    "\n",
    "    # Parse the header line to determine the order of properties\n",
    "    headers = []\n",
    "    if header_line:\n",
    "        headers = re.split(r\"\\s+\", header_line.strip())[1:]  # get rid of the first column, which is the structure column\n",
    "\n",
    "    # Extract relevant lines between the two asterisk lines\n",
    "    if start_index is not None and end_index is not None and end_index > start_index:\n",
    "        for line in lines[start_index + 1 : end_index]:\n",
    "            if re.match(r\"^\\s*o\", line):  # Matches lines starting with 'o' (with any amount of whitespace before)\n",
    "                parts = re.split(r\"\\s+\", line.strip())  # Split the line by whitespace\n",
    "                structure_name = parts[1]  # The structure name is in parts[1]\n",
    "\n",
    "                # Initialize a dictionary for this structure\n",
    "                structure_data = {}\n",
    "                # Populate the structure's data dictionary using headers and corresponding values\n",
    "                for i, header in enumerate(headers):\n",
    "                    if header in column_mapping:\n",
    "                        structure_data[column_mapping[header]] = float(parts[i + 2])  # Offset by 2 for correct column indexing\n",
    "                    else:\n",
    "                        structure_data[header] = float(parts[i + 2])\n",
    "\n",
    "                structure_data[\"T\"] = temp  # Add temperature to each structure's data\n",
    "                data[structure_name] = structure_data  # Add to the main data dictionary\n",
    "\n",
    "    return data\n",
    "\n",
    "\n",
    "def get_goodvibes_e_batch(temp: float = 298.15) -> dict:\n",
    "    # Construct command-line arguments for GoodVibes\n",
    "    cmd_args = [\n",
    "        sys.executable,\n",
    "        \"-m\",\n",
    "        \"goodvibes\",\n",
    "        os.path.join(DFT_log_folder, \"*.log\"),\n",
    "        \"--spc\",\n",
    "        \"link\",\n",
    "        \"-t\",\n",
    "        str(temp),\n",
    "    ]\n",
    "    # Run the GoodVibes command and capture the output\n",
    "    result = subprocess.run(cmd_args, stdout=subprocess.PIPE, stderr=subprocess.PIPE, text=True)\n",
    "    # Parse the output\n",
    "    parsed_data = parse_goodvibes_output(result.stdout, temp)\n",
    "    return parsed_data"
   ]
  },
  {
   "cell_type": "code",
   "execution_count": 4,
   "metadata": {},
   "outputs": [],
   "source": [
    "# Run the function\n",
    "result = get_goodvibes_e_batch()\n",
    "# Sort the result by the structure number\n",
    "result = {\n",
    "    k: v\n",
    "    for k, v in sorted(result.items(), key=lambda x: int(re.search(r\"^\\D+(\\d+)_{1}\", x[0]).group(1)))\n",
    "}"
   ]
  },
  {
   "cell_type": "code",
   "execution_count": null,
   "metadata": {},
   "outputs": [],
   "source": [
    "result"
   ]
  },
  {
   "cell_type": "code",
   "execution_count": 6,
   "metadata": {},
   "outputs": [],
   "source": [
    "# grouped results by substrates\n",
    "def group_results_by_substrates(result: dict) -> dict:\n",
    "    # Initialize a new dictionary to\n",
    "    result_grouped_by_substrates = {}\n",
    "    # Regex pattern to capture the substrate name before \"_\", for example pyrd1_conf-1 -> pyrd1\n",
    "    substrate_pattern = re.compile(r\"^(.+)_\")\n",
    "    for conformer_name, properties in result.items():\n",
    "        # Extract substrate name using regex\n",
    "        match = substrate_pattern.match(conformer_name)\n",
    "        if match:\n",
    "            substrate_name = match.group(1)\n",
    "\n",
    "            # Append conformer data to the list for this substrate\n",
    "            if substrate_name not in result_grouped_by_substrates:\n",
    "                result_grouped_by_substrates[substrate_name] = []\n",
    "            result_grouped_by_substrates[substrate_name].append(\n",
    "                {conformer_name: properties}\n",
    "            )\n",
    "    return result_grouped_by_substrates\n",
    "\n",
    "\n",
    "result_grouped_by_substrates = group_results_by_substrates(result)"
   ]
  },
  {
   "cell_type": "code",
   "execution_count": null,
   "metadata": {},
   "outputs": [],
   "source": [
    "result_grouped_by_substrates"
   ]
  },
  {
   "cell_type": "code",
   "execution_count": null,
   "metadata": {},
   "outputs": [],
   "source": [
    "# Function to select the conformer with the lowest specified energy property for each substrate\n",
    "def select_lowest_energy_conformer(substrates: dict, column: str = \"E_spc (Hartree)\") -> dict:\n",
    "    print(f\"filtering based on {column}\")\n",
    "    result_filtered = {}\n",
    "    for substrate, conformers in substrates.items():\n",
    "        print(f\"--------------------------------------------------------------\")\n",
    "        print(f\"for substrate {substrate}, we have {len(conformers)} conformers\")\n",
    "        for conformer in conformers:\n",
    "            print(\n",
    "                f\"{list(conformer.keys())[0]} have {column}: {list(conformer.values())[0].get(column, None)}\"\n",
    "            )\n",
    "        # Find the conformer with the minimum specified energy value\n",
    "        min_conformer = min(\n",
    "            conformers, key=lambda x: list(x.values())[0].get(column, float(\"inf\"))\n",
    "        )\n",
    "        print(f\"lowest energy conformer: {list(min_conformer.keys())[0]}\")\n",
    "        # Add the lowest energy conformer to the result dictionary\n",
    "        result_filtered[substrate] = min_conformer\n",
    "    return result_filtered\n",
    "\n",
    "\n",
    "filtered_result = select_lowest_energy_conformer(result_grouped_by_substrates, column=\"E_spc (Hartree)\")"
   ]
  },
  {
   "cell_type": "code",
   "execution_count": null,
   "metadata": {},
   "outputs": [],
   "source": [
    "# filter by E_spc (Hartree)\n",
    "filtered_result_spc_column = \"E_spc (Hartree)\"\n",
    "filtered_result_spc = select_lowest_energy_conformer(result_grouped_by_substrates, column=filtered_result_spc_column)\n",
    "# filter by G(T)_spc(Hartree)\n",
    "filtered_result_nospc_column = \"G(T)_spc(Hartree)\"\n",
    "filtered_result_nospc = select_lowest_energy_conformer(result_grouped_by_substrates, column=filtered_result_nospc_column)"
   ]
  },
  {
   "cell_type": "code",
   "execution_count": 28,
   "metadata": {},
   "outputs": [],
   "source": [
    "# compare the two results\n",
    "for substrate, conformer in filtered_result_spc.items():\n",
    "    nospc_conformer = filtered_result_nospc[substrate]\n",
    "    if nospc_conformer != conformer:\n",
    "        print(f\"--------------------------------------------------------------\")\n",
    "        print(f\"substrate {substrate} has different conformers selected when using {filtered_result_spc_column} and {filtered_result_nospc_column}\")\n",
    "        print(f\"conformer selected using {filtered_result_spc_column}: {list(conformer.keys())[0]}\")\n",
    "        print(f\"energy details: {conformer}\")\n",
    "        print(f\"conformer selected using {filtered_result_nospc_column}: {list(nospc_conformer.keys())[0]}\")\n",
    "        print(f\"energy details: {nospc_conformer}\")"
   ]
  }
 ],
 "metadata": {
  "kernelspec": {
   "display_name": ".venv",
   "language": "python",
   "name": "python3"
  },
  "language_info": {
   "codemirror_mode": {
    "name": "ipython",
    "version": 3
   },
   "file_extension": ".py",
   "mimetype": "text/x-python",
   "name": "python",
   "nbconvert_exporter": "python",
   "pygments_lexer": "ipython3",
   "version": "3.11.5"
  }
 },
 "nbformat": 4,
 "nbformat_minor": 2
}
