{
 "cells": [
  {
   "cell_type": "markdown",
   "metadata": {},
   "source": [
    "### <p style=\"font-family: Arial; color: gold; font-weight: bold;\"> Well, if you want to start fresh, run this notebook to clean ALL FILES and resetup the environment. </p>"
   ]
  },
  {
   "cell_type": "code",
   "execution_count": 1,
   "metadata": {},
   "outputs": [],
   "source": [
    "import os"
   ]
  },
  {
   "cell_type": "markdown",
   "metadata": {},
   "source": [
    "### <p style=\"font-family: Arial; color: gold; font-weight: bold;\"> Below setup the folder for the first notebook. </p>"
   ]
  },
  {
   "cell_type": "code",
   "execution_count": 2,
   "metadata": {},
   "outputs": [],
   "source": [
    "def setup_and_clean_folder(folder):\n",
    "    \"\"\"Create the folder if it doesn't exist and remove all its contents.\"\"\"\n",
    "    os.makedirs(folder, exist_ok=True)\n",
    "    for file in os.listdir(folder):\n",
    "        os.remove(os.path.join(folder, file))\n",
    "\n",
    "\n",
    "# Define your input folders here\n",
    "input_common_structure_folder = \"1.common_structure\"\n",
    "input_com_folder = \"1.closed_shell_com\"\n",
    "#! this folder store the COM files for closed shell species with optimized geometries\n",
    "input_com_optimized_folder = \"1.closed_shell_com_optimized\"\n",
    "#! the sdf folder is the folder containing the sdf files of the molecules, we need this to load the molecules into rdkit\n",
    "input_sdf_folder = \"1.closed_shell_sdf\"\n",
    "#! You need the input DFT log files to extract the optimized geometries\n",
    "input_DFT_log_folder = \"1.DFT_log_files\"\n",
    "\n",
    "# Define your output folders here\n",
    "output_com_folder = \"1.open_shell_com\"\n",
    "# this folder use the publication naming convention\n",
    "output_com_folder_publication = \"1.open_shell_com_publication\"\n",
    "\n",
    "# Clean and prepare all folders\n",
    "folders = [\n",
    "    input_common_structure_folder,\n",
    "    input_com_folder,\n",
    "    input_com_optimized_folder,\n",
    "    input_sdf_folder,\n",
    "    input_DFT_log_folder,\n",
    "    output_com_folder,\n",
    "    output_com_folder_publication,\n",
    "]\n",
    "for folder in folders:\n",
    "    setup_and_clean_folder(folder)"
   ]
  },
  {
   "cell_type": "markdown",
   "metadata": {},
   "source": [
    "### <p style=\"font-family: Arial; color: gold; font-weight: bold;\"> Below setup the folder for the second notebook. </p>"
   ]
  },
  {
   "cell_type": "code",
   "execution_count": 3,
   "metadata": {},
   "outputs": [],
   "source": [
    "# define your input and output folders here\n",
    "input_com_folder = \"1.open_shell_com\"\n",
    "output_com_folder = \"2.anion_com\"\n",
    "output_com_folder_publication = \"2.anion_com_publication\"\n",
    "\n",
    "# Clean and prepare all folders\n",
    "folders = [\n",
    "    input_com_folder,\n",
    "    output_com_folder,\n",
    "    output_com_folder_publication,\n",
    "]\n",
    "for folder in folders:\n",
    "    setup_and_clean_folder(folder)"
   ]
  },
  {
   "cell_type": "markdown",
   "metadata": {},
   "source": [
    "### <p style=\"font-family: Arial; color: gold; font-weight: bold;\"> Below setup the folder for the third notebook. </p>"
   ]
  },
  {
   "cell_type": "code",
   "execution_count": 4,
   "metadata": {},
   "outputs": [],
   "source": [
    "# define your desired folder names here\n",
    "DFT_log_folder = \"1.DFT_log_files\"\n",
    "input_anion_com_folder = \"2.anion_com\"\n",
    "output_anion_com = \"3.anion_com_filtered\"\n",
    "\n",
    "input_open_shell_com_folder = \"1.open_shell_com\"\n",
    "output_open_shell_com = \"3.open_shell_com_filtered\"\n",
    "\n",
    "# Clean and prepare all folders\n",
    "folders = [\n",
    "    DFT_log_folder,\n",
    "    input_anion_com_folder,\n",
    "    output_anion_com,\n",
    "    input_open_shell_com_folder,\n",
    "    output_open_shell_com,\n",
    "]\n",
    "for folder in folders:\n",
    "    setup_and_clean_folder(folder)"
   ]
  }
 ],
 "metadata": {
  "kernelspec": {
   "display_name": ".venv",
   "language": "python",
   "name": "python3"
  },
  "language_info": {
   "codemirror_mode": {
    "name": "ipython",
    "version": 3
   },
   "file_extension": ".py",
   "mimetype": "text/x-python",
   "name": "python",
   "nbconvert_exporter": "python",
   "pygments_lexer": "ipython3",
   "version": "3.11.5"
  }
 },
 "nbformat": 4,
 "nbformat_minor": 2
}
