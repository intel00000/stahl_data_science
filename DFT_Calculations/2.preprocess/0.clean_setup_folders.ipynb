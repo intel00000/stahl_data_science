{
 "cells": [
  {
   "cell_type": "markdown",
   "metadata": {},
   "source": [
    "### <p style=\"font-family: Arial; color: gold; font-weight: bold;\"> Well, if you want to start fresh, run this notebook to clean ALL FILES and resetup the environment. </p>"
   ]
  },
  {
   "cell_type": "code",
   "execution_count": 1,
   "metadata": {},
   "outputs": [],
   "source": [
    "from helper_functions import setup_and_clean_folder"
   ]
  },
  {
   "cell_type": "markdown",
   "metadata": {},
   "source": [
    "### <p style=\"font-family: Arial; color: gold; font-weight: bold;\"> Below setup the folder for the first notebook. </p>"
   ]
  },
  {
   "cell_type": "code",
   "execution_count": 2,
   "metadata": {},
   "outputs": [],
   "source": [
    "# Define your input folders here\n",
    "input_common_structure_folder = \"1.common_structure\"\n",
    "input_com_folder = \"1.closed_shell_com\"\n",
    "#! this folder store the COM files for closed shell species with optimized geometries\n",
    "input_com_optimized_folder = \"1.closed_shell_com_optimized\"\n",
    "#! the sdf folder is the folder containing the sdf files of the molecules, we need this to load the molecules into rdkit\n",
    "input_sdf_folder = \"1.closed_shell_sdf\"\n",
    "#! You need the input DFT log files to extract the optimized geometries\n",
    "input_log_folder = \"1.closed_shell_log\"\n",
    "\n",
    "# Define your output folders here\n",
    "output_com_folder = \"1.open_shell_com\"\n",
    "# this folder use the publication naming convention\n",
    "output_com_folder_publication = \"1.open_shell_com_publication\"\n",
    "# these are the \"unzip\" version of the sdf files, the original sdf file have multiple conformers in each file, we are extracting the conformers into individual sdf files\n",
    "output_sdf_folder = \"1.closed_shell_sdf_unzipped\"\n",
    "output_open_shell_sdf = \"1.open_shell_sdf_unzipped\"\n",
    "output_anion_sdf_folder = \"2.anion_sdf_unzipped\"\n",
    "\n",
    "# Clean and prepare all folders\n",
    "folders = [\n",
    "    input_common_structure_folder,\n",
    "    input_com_folder,\n",
    "    input_com_optimized_folder,\n",
    "    input_sdf_folder,\n",
    "    input_log_folder,\n",
    "    output_com_folder,\n",
    "    output_com_folder_publication,\n",
    "    output_sdf_folder,\n",
    "    output_open_shell_sdf,\n",
    "    output_anion_sdf_folder,\n",
    "]\n",
    "for folder in folders:\n",
    "    setup_and_clean_folder(folder)"
   ]
  },
  {
   "cell_type": "markdown",
   "metadata": {},
   "source": [
    "### <p style=\"font-family: Arial; color: gold; font-weight: bold;\"> Below setup the folder for the second notebook. </p>"
   ]
  },
  {
   "cell_type": "code",
   "execution_count": 3,
   "metadata": {},
   "outputs": [],
   "source": [
    "# define your input and output folders here\n",
    "input_com_folder = \"1.open_shell_com\"\n",
    "output_com_folder = \"2.anion_com\"\n",
    "output_com_folder_publication = \"2.anion_com_publication\"\n",
    "\n",
    "# Clean and prepare all folders\n",
    "folders = [\n",
    "    input_com_folder,\n",
    "    output_com_folder,\n",
    "    output_com_folder_publication,\n",
    "]\n",
    "for folder in folders:\n",
    "    setup_and_clean_folder(folder)"
   ]
  },
  {
   "cell_type": "markdown",
   "metadata": {},
   "source": [
    "### <p style=\"font-family: Arial; color: gold; font-weight: bold;\"> Below setup the folder for the third notebook. </p>"
   ]
  },
  {
   "cell_type": "code",
   "execution_count": 4,
   "metadata": {},
   "outputs": [],
   "source": [
    "# define your desired folder names here\n",
    "input_log_folder = \"1.closed_shell_log\"\n",
    "input_com_folder = \"2.anion_com\"\n",
    "input_open_shell_com_folder = \"1.open_shell_com\"\n",
    "input_open_shell_sdf = \"1.open_shell_sdf_unzipped\"\n",
    "input_anion_sdf_folder = \"2.anion_sdf_unzipped\"\n",
    "\n",
    "output_anion_com = \"3.anion_com_filtered\"\n",
    "output_anion_sdf_filter = \"3.anion_sdf_filtered\"\n",
    "output_open_shell_com = \"3.open_shell_com_filtered\"\n",
    "output_open_shell_sdf_filter = \"3.open_shell_sdf_filtered\"\n",
    "\n",
    "# Clean and prepare all folders\n",
    "folders = [\n",
    "    input_log_folder,\n",
    "    input_com_folder,\n",
    "    input_open_shell_com_folder,\n",
    "    input_open_shell_sdf,\n",
    "    input_anion_sdf_folder,\n",
    "    output_anion_com,\n",
    "    output_anion_sdf_filter,\n",
    "    output_open_shell_com,\n",
    "    output_open_shell_sdf_filter,\n",
    "]\n",
    "for folder in folders:\n",
    "    setup_and_clean_folder(folder)"
   ]
  }
 ],
 "metadata": {
  "kernelspec": {
   "display_name": ".venv",
   "language": "python",
   "name": "python3"
  },
  "language_info": {
   "codemirror_mode": {
    "name": "ipython",
    "version": 3
   },
   "file_extension": ".py",
   "mimetype": "text/x-python",
   "name": "python",
   "nbconvert_exporter": "python",
   "pygments_lexer": "ipython3",
   "version": "3.11.5"
  }
 },
 "nbformat": 4,
 "nbformat_minor": 2
}
