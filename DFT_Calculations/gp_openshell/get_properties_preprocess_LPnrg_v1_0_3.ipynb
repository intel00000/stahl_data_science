{
 "cells": [
  {
   "cell_type": "markdown",
   "id": "d7fb3df0",
   "metadata": {},
   "source": [
    "### <p style=\"font-family: Arial; color: gold; font-weight: bold;\">**update by Tom Tan in 8.30.2024** </p>"
   ]
  },
  {
   "cell_type": "markdown",
   "id": "e7a5664d",
   "metadata": {},
   "source": [
    "# **1. Imports**\n",
    "##### Brittany C. Haas and Melissa A. Hardy's jupyter notebook for automated collection of molecular descriptors and post-processing (i.e., Boltzmann average, min/max values, etc.).\n",
    "##### **NOTE: Make sure to use the get_properties_environment file to set your conda environment.**"
   ]
  },
  {
   "cell_type": "code",
   "execution_count": null,
   "id": "4d412434",
   "metadata": {
    "ExecuteTime": {
     "end_time": "2022-04-08T15:27:30.608450Z",
     "start_time": "2022-04-08T15:27:12.248762Z"
    },
    "scrolled": false
   },
   "outputs": [],
   "source": [
    "import re, sys, glob, io\n",
    "import pandas as pd\n",
    "from PIL import Image\n",
    "import matplotlib.pyplot as plt\n",
    "from matplotlib.colors import ColorConverter\n",
    "\n",
    "randomstate = 42\n",
    "\n",
    "from rdkit import Chem\n",
    "from rdkit.Chem.Draw import IPythonConsole\n",
    "\n",
    "import ipywidgets as widgets"
   ]
  },
  {
   "cell_type": "markdown",
   "id": "f1075447",
   "metadata": {},
   "source": [
    "***\n",
    "# **2. Generate Atom Inputs Dataframe**\n",
    "##### Portions of this section were adapted from code written Jordan P. Liles."
   ]
  },
  {
   "cell_type": "markdown",
   "id": "2861dcc2",
   "metadata": {},
   "source": [
    "### <p style=\"font-family: Arial; color: red; font-weight: bold;\"> !!! Name the same type of molecule in a unique common prefix (need to be all character) to use the following cell </p>\n",
    "### <p style=\"font-family: Arial; color: gold; font-weight: bold;\"> for example pyridine all in pyrd + digit + whatever, pyrimidine all in pyrmd + digit + whatever </p>"
   ]
  },
  {
   "cell_type": "markdown",
   "id": "5da9b32a",
   "metadata": {},
   "source": [
    "## &emsp;**2.1 Generate dataframe with atom numbers**\n",
    "### &emsp;&emsp;Two method: <br /> &emsp;&emsp;**1. Use command line to prepare files (only in linux!)**\n",
    "\n",
    "### &emsp;&emsp;&emsp;To create files: navigate to folder that contains all the log files you wish to analyze.\n",
    "\n",
    "> ##### &emsp;&emsp;&emsp;module load openbabel<br /> &emsp;&emsp;&emsp;obabel *.log -osdf -m<br /> &emsp;&emsp;&emsp;ls *.log > log_ids.txt<br /> &emsp;&emsp;&emsp;cat *.sdf >> molecules.sdf<br />\n",
    "\n",
    "##### &emsp;&emsp;&emsp;You will use the log_ids.txt and molecules.sdf files in the rest of 2.1."
   ]
  },
  {
   "cell_type": "markdown",
   "id": "97d8871b",
   "metadata": {},
   "source": [
    "### &emsp;&emsp;**2. Run the following code in python (work in windows and linux)**\n",
    "##### <p style=\"font-family: Arial; color: red; font-weight: bold;\">&emsp;&emsp;&emsp;!!!!! make sure to install openbabel.</p> &emsp;&emsp;&emsp;see https://openbabel.org/docs/Installation/install.html <br /> &emsp;&emsp;&emsp;(in ubuntu run sudo apt install openbabel), <br /> &emsp;&emsp;&emsp;testing you installation by running obable in shell"
   ]
  },
  {
   "cell_type": "markdown",
   "id": "982c699a",
   "metadata": {},
   "source": [
    "##### &emsp;&emsp;&emsp;Convert log to sdf"
   ]
  },
  {
   "cell_type": "code",
   "execution_count": null,
   "id": "c97d89eb",
   "metadata": {},
   "outputs": [],
   "source": [
    "# if under linux, execute the \"module load openbabel\" in the terminal (seem like this is needed in some hpc server)\n",
    "if sys.platform == \"linux\" or sys.platform == \"linux2\":\n",
    "    !module load openbabel\n",
    "\n",
    "!obabel *.log -osdf -m"
   ]
  },
  {
   "cell_type": "markdown",
   "id": "8cdf962f",
   "metadata": {},
   "source": [
    "##### &emsp;&emsp;&emsp;list all *.log files in the directory"
   ]
  },
  {
   "cell_type": "code",
   "execution_count": null,
   "id": "eaa50485",
   "metadata": {},
   "outputs": [],
   "source": [
    "# list all *.log files in the directory\n",
    "# we will first grep all the prefix, use regular expression to match all non-digit characters from the start of the filename\n",
    "# the key will be the prefix, and the value will be a list of all the files with that prefix\n",
    "log_prefix = {}\n",
    "log_file_list = glob.glob(\"*.log\")\n",
    "for file in log_file_list:\n",
    "    key = re.match(\"([a-zA-Z]+)\", file).group(0)\n",
    "    if key in log_prefix:\n",
    "        log_prefix[key].append(file)\n",
    "    else:\n",
    "        log_prefix[key] = [file]\n",
    "        \n",
    "# sort the dict by name\n",
    "for each in log_prefix:\n",
    "    log_prefix[each].sort()\n",
    "# sort the key of the dict\n",
    "log_prefix = dict(sorted(log_prefix.items()))\n",
    "        \n",
    "def format_dict_print(dict):\n",
    "    for key, value in dict.items():\n",
    "        print(f'\"{key}\": {value},')\n",
    "\n",
    "format_dict_print(log_prefix)"
   ]
  },
  {
   "cell_type": "markdown",
   "id": "cd73f3cc",
   "metadata": {},
   "source": [
    "##### &emsp;&emsp;&emsp;generate log_ids_prefix.txt for each prefix by writing all log filename into a single file name log_ids_ + prefix + .txt"
   ]
  },
  {
   "cell_type": "code",
   "execution_count": null,
   "id": "48c2a034",
   "metadata": {},
   "outputs": [],
   "source": [
    "# generate log_ids_prefix.txt for each prefix,\n",
    "output_file_prefix = \"log_ids_\"\n",
    "for key in log_prefix:\n",
    "    with open(output_file_prefix + key + \".txt\", \"w\") as f:\n",
    "        for item in log_prefix[key]:\n",
    "            f.write(\"%s\\n\" % item)"
   ]
  },
  {
   "cell_type": "markdown",
   "id": "b6980124",
   "metadata": {},
   "source": [
    "##### &emsp;&emsp;&emsp;list all sdf files in the directory, pipe content of those with a common prefix to a file name molecules_prefix.sdf"
   ]
  },
  {
   "cell_type": "code",
   "execution_count": null,
   "id": "28177039",
   "metadata": {},
   "outputs": [],
   "source": [
    "# list all sdf files in the directory, pipe those with a common prefix to a file name molecules_prefix.sdf\n",
    "\n",
    "# we will first grep all the prefix, use regular expression to match all non-digit characters from the start of the filename\n",
    "# the key will be the prefix, and the value will be a list of all the files with that prefix\n",
    "sdf_prefix = {}\n",
    "log_file_list = glob.glob(\"*.sdf\")\n",
    "for file in log_file_list:\n",
    "    key = re.match(\"([a-zA-Z]+)\", file).group(0)\n",
    "    # check this against the key of prefix dictionary, if not present, skip\n",
    "    if key in log_prefix:\n",
    "        if key in sdf_prefix:\n",
    "            sdf_prefix[key].append(file)\n",
    "        else:\n",
    "            sdf_prefix[key] = [file]\n",
    "\n",
    "# sort the dict by name\n",
    "for each in sdf_prefix:\n",
    "    sdf_prefix[each].sort()\n",
    "# sort the key of the dict\n",
    "sdf_prefix = dict(sorted(sdf_prefix.items()))\n",
    "\n",
    "format_dict_print(sdf_prefix)\n",
    "\n",
    "# read the sdf files, pipe their contents to a single file named molecules_prefix.sdf\n",
    "output_file_prefix = \"molecules_\"\n",
    "for key in sdf_prefix:\n",
    "    with open(output_file_prefix + key + \".sdf\", \"w\") as f:\n",
    "        for sdf_file in sdf_prefix[key]:\n",
    "            with open(sdf_file, \"r\") as f2:\n",
    "                f.write(f2.read())\n",
    "            print(f\"pipe {sdf_file} to {output_file_prefix + key}.sdf\")"
   ]
  },
  {
   "cell_type": "markdown",
   "id": "ac80d428",
   "metadata": {
    "heading_collapsed": true
   },
   "source": [
    "***\n",
    "# **3.Define SMARTS substructure**\n",
    "\n",
    "### <p style=\"font-family: Arial; color: gold\"> Draw the common substructure (with general atoms) in Chemdraw and copy as SMILES (this will generate a SMARTS string), edit the common_structure_list."
   ]
  },
  {
   "cell_type": "code",
   "execution_count": null,
   "id": "6954b054",
   "metadata": {},
   "outputs": [],
   "source": [
    "common_structure_list = {}\n",
    "\n",
    "for key in log_prefix:\n",
    "    structure_file = key + \".cdxml\"\n",
    "    substructure = Chem.MolsFromCDXMLFile(structure_file)\n",
    "    # output to Smarts format\n",
    "    temp_smarts = Chem.MolToSmarts(substructure[0])\n",
    "    # reparse the Smarts, this is in case the structure from the cdxml file is not the same as from the SMILES string\n",
    "    substructure = Chem.MolFromSmarts(temp_smarts)\n",
    "    # add the substructure to the dictionary\n",
    "    common_structure_list[key] = substructure\n",
    "\n",
    "for key, value in common_structure_list.items():\n",
    "    print(f'\"{key}\": ')\n",
    "    img = Chem.Draw.MolToImage(value, size=(100, 100))\n",
    "    # display the image in juptyer notebook\n",
    "    display(img)"
   ]
  },
  {
   "cell_type": "markdown",
   "id": "9459bd41",
   "metadata": {
    "heading_collapsed": true
   },
   "source": [
    "## &emsp;**3.1 Generate preliminary dataframe**\n",
    "#### &emsp; This will generate common_structure_ + prefix .png with the common structure highlight and labeled. <br> &emsp; This label is the same as the one in GaussView so you don't need to use GaussView now. <br> &emsp; it will also output a dataframe mapping the common structure atom to the corresponding atom label in GaussView for easier atom reassignment.\n",
    "#### <p style=\"font-family: Arial; color: red; font-weight: bold;\"> &emsp; !!!Be aware: I add the atom label in each cell for easier atom reassignment. For example a cell change from just a single number from 7 to C7. You might need to adjust you code if you are only expecting number in each cell</p>\n",
    "\n",
    "##### example with common_structure_pyrz.png <br> ![common_structure_pyrz](./common_structure_pyrz.png)"
   ]
  },
  {
   "cell_type": "code",
   "execution_count": null,
   "id": "8a42cae9",
   "metadata": {
    "ExecuteTime": {
     "end_time": "2022-04-08T15:41:53.816681Z",
     "start_time": "2022-04-08T15:41:53.647653Z"
    },
    "hidden": true,
    "run_control": {
     "marked": false
    },
    "scrolled": true
   },
   "outputs": [],
   "source": [
    "# generate a list of molecules using RDkit\n",
    "all_compounds_list = {}\n",
    "for prefix in log_prefix:\n",
    "    all_compounds_list[prefix] = Chem.SDMolSupplier(\n",
    "        \"molecules_\" + prefix + \".sdf\", removeHs=False\n",
    "    )\n",
    "# molecules.sdf is generated with the instructions above\n",
    "# it is a single sdf that contains the structures/atom numbers etc. for every molecule you will analyze\n",
    "\n",
    "\n",
    "def draw_grid_image(img_list, title_list, num_cols, item_prefix, save_image_prefix):\n",
    "    num_images = len(img_list)\n",
    "    num_rows = (\n",
    "        num_images + num_cols - 1\n",
    "    ) // num_cols  # Calculate number of rows needed\n",
    "\n",
    "    plt.figure(figsize=(15, 5 * num_rows))\n",
    "\n",
    "    for i in range(num_images):\n",
    "        plt.subplot(num_rows, num_cols, i + 1)\n",
    "        plt.imshow(img_list[i])\n",
    "        plt.axis(\"on\")  # Turn on the axis to show grid lines\n",
    "        plt.grid(True)  # Enable grid lines\n",
    "        plt.title(title_list[i], fontsize=20)\n",
    "        plt.xticks([])  # Remove x-ticks\n",
    "        plt.yticks([])  # Remove y-ticks\n",
    "\n",
    "    # Adjust layout to make sure everything fits and display the grid\n",
    "    plt.tight_layout()\n",
    "    # save the grid image to a file\n",
    "    plt.savefig(save_image_prefix + item_prefix + \".png\")\n",
    "    # don't display the image in the notebook\n",
    "    plt.close()\n",
    "\n",
    "\n",
    "def search_for_substructure(all_compounds, substructure, prefix):\n",
    "    # uses RDKit to search for the substructure in each compound you will analyze\n",
    "    atoms = []\n",
    "    img_list = []\n",
    "    for molecule in all_compounds:\n",
    "        if molecule is not None:\n",
    "            submatch = molecule.GetSubstructMatches(substructure)  # find substructure\n",
    "            matchlist = list(\n",
    "                [item for sublist in submatch for item in sublist]\n",
    "            )  # list of zero-indexed atom numbers\n",
    "\n",
    "            # !this is specific to this project which is chlorination on the alkyl side chain on the substrucutre, hence we care about the alkyl side chain\n",
    "            # now what we need to do, is to search atoms that are connected to the current found substructure which are also not part of the current substructure\n",
    "            # they must be a carbon atom and its neighbors have to have at least one hydrogen and all bond must be single bond\n",
    "            connected_atoms = []\n",
    "            for atom in matchlist:\n",
    "                for neighbor in molecule.GetAtomWithIdx(atom).GetNeighbors():\n",
    "                    # filter neighbor that is not in the matchlist\n",
    "                    if (\n",
    "                        neighbor.GetSymbol() == \"C\"\n",
    "                        and neighbor.GetIdx() not in matchlist\n",
    "                    ):\n",
    "                        # check if all the bonds are single bond\n",
    "                        if (\n",
    "                            neighbor.GetBonds() is not None  # check if there is a bond\n",
    "                            and neighbor.GetTotalNumHs(includeNeighbors=True)\n",
    "                            > 0  # check if there is at least one hydrogen\n",
    "                            and all(\n",
    "                                [\n",
    "                                    bond.GetBondType() == Chem.rdchem.BondType.SINGLE\n",
    "                                    for bond in neighbor.GetBonds()\n",
    "                                ]  # check if all bonds are single bond\n",
    "                            )\n",
    "                        ):\n",
    "                            connected_atoms.append(neighbor.GetIdx())\n",
    "                            # append the substructure atom that is connected to the current atom\n",
    "                            connected_atoms.append(atom)\n",
    "            # !this will result in the substructure atom that is connected to alkyl side chain appear twice in the connected_atoms list and the matchlist\n",
    "            # !this is fine since we can assign two new labels to the same atom during reassignment\n",
    "            # !this is done because sometime we have atom label flipped due to symmetry, and I don't want to go through the trouble of rotating the molecule label\n",
    "\n",
    "            # append the connected atoms to the matchlist\n",
    "            matchlist.extend(connected_atoms)\n",
    "\n",
    "            match_atom = [\n",
    "                molecule.GetAtomWithIdx(x).GetSymbol() for x in matchlist\n",
    "            ]  # find the corresponding atom for each atom number\n",
    "            match_idx = [\n",
    "                x + 1 for x in matchlist\n",
    "            ]  # this line changes from 0-indexed to 1-indexed (for Gaussian)\n",
    "            match_combined = [\n",
    "                str(match_atom[i]) + str(match_idx[i]) for i in range(len(match_atom))\n",
    "            ]  # combine atom symbol and number\n",
    "\n",
    "            atoms.append(\n",
    "                match_combined\n",
    "            )  # append 1-indexed list to atoms (a list of lists)\n",
    "\n",
    "            # add a label to the atom that is being matched\n",
    "            for atom in matchlist:\n",
    "                molecule.GetAtomWithIdx(atom).SetProp(\n",
    "                    \"atomLabel\", match_combined[matchlist.index(atom)]\n",
    "                )  # label the atom being matched\n",
    "\n",
    "            # now create a grid image of all the molecules, label the atom being matched\n",
    "            # the atom that had the property name GaussianMap added to it will be labeled\n",
    "            # we will draw each molecule with the atom number labeled and the substructure highlighted and then combine them into a grid image with captions of the file name\n",
    "            Chem.rdDepictor.Compute2DCoords(molecule)\n",
    "\n",
    "            # Prepare the highlight color dictionary\n",
    "            highlight_colors = {}\n",
    "            for atom in matchlist:\n",
    "                if atom in connected_atoms:\n",
    "                    highlight_colors[atom] = ColorConverter().to_rgb(\"gold\")\n",
    "                else:\n",
    "                    highlight_colors[atom] = ColorConverter().to_rgb(\"aqua\")\n",
    "\n",
    "            # Create a drawer\n",
    "            drawer = Chem.Draw.rdMolDraw2D.MolDraw2DCairo(\n",
    "                500, 500\n",
    "            )  # Use Cairo backend for drawing\n",
    "            drawer.drawOptions().continuousHighlight = True\n",
    "            # Prepare highlight dictionary\n",
    "            drawer.DrawMolecule(\n",
    "                molecule, highlightAtoms=matchlist, highlightAtomColors=highlight_colors\n",
    "            )\n",
    "            drawer.FinishDrawing()\n",
    "\n",
    "            png_data = drawer.GetDrawingText()\n",
    "            img = Image.open(io.BytesIO(png_data))\n",
    "            img_list.append(img)\n",
    "\n",
    "    # this loop extracts log names from log_ids and splits them to the desired format\n",
    "    filenames = open(\n",
    "        \"log_ids_\" + prefix + \".txt\", \"r\"\n",
    "    )  # it is a text file that contains the file name for every molecule you will analyze\n",
    "    # it is a text file that contains the file name for every molecule you will analyze\n",
    "    list_of_filenames = [\n",
    "        (line.strip()).split() for line in filenames\n",
    "    ]  # list of the file names (each of which includes all conformers)\n",
    "    list_of_files = []\n",
    "    for filename in list_of_filenames:\n",
    "        file = filename[0].split(\".\")\n",
    "        list_of_files.append(file[0])\n",
    "    filenames.close()\n",
    "\n",
    "    # put the atom numbers for the substructure for each log file into a dataframe\n",
    "    prelim_df = pd.DataFrame(atoms)\n",
    "    prelim_df.insert(0, column=\"log_name\", value=list_of_files)\n",
    "\n",
    "    draw_grid_image(img_list, list_of_files, 3, prefix, \"common_structure_\")\n",
    "\n",
    "    return prelim_df\n",
    "\n",
    "\n",
    "mappped_df = {}\n",
    "\n",
    "for prefix in log_prefix:\n",
    "    mappped_df[prefix] = search_for_substructure(\n",
    "        all_compounds_list[prefix], common_structure_list[prefix], prefix\n",
    "    )\n",
    "    display(mappped_df[prefix])"
   ]
  },
  {
   "cell_type": "markdown",
   "id": "0f286024",
   "metadata": {
    "heading_collapsed": true
   },
   "source": [
    "## &emsp;**3.2 Reassign atom labels**"
   ]
  },
  {
   "cell_type": "markdown",
   "id": "d254d4c5",
   "metadata": {
    "hidden": true
   },
   "source": [
    "### <p style=\"font-family: Arial; color: gold; font-weight: bold;\"> &emsp;&emsp;**User input required:** </p>\n",
    "\n",
    "##### &emsp;&emsp; Check the preliminary dataframe displayed above and the common_structure_prefix.png. You will see that the same common structure atom is labeled differently in each molecule (usually the same in each conformers). We need to address this by relabel atoms in the common structure to a new label that is consistent across all molecules.\n",
    "##### &emsp;&emsp; Run the follow cell, for each prefix it will prompt you to input the new label for each atom in the common structure. <br> &emsp;&emsp; The input box will show the header in the current mapping dataframe, change it to the new label you want to assign to the atom. It's recommand to include the atom type in the label, for example C7, N1, etc.\n",
    "\n",
    "\n",
    "##### &emsp;&emsp; As you press submit, a images of the newly relabeled common structure will be saved to common_structure_reassigned_prefix.png. <br> &emsp;&emsp; You can open this up and compared side by side to the previous common_structure_prefix.png to make sure the relabeling is correct."
   ]
  },
  {
   "cell_type": "code",
   "execution_count": null,
   "id": "156195e9",
   "metadata": {},
   "outputs": [],
   "source": [
    "# go through each dataframe in mappped_df, drop row with None\n",
    "for key in mappped_df:\n",
    "    # check if there is any invalid value in a row, print a warning\n",
    "    invalid_rows = mappped_df[key].isnull().any(axis=1)\n",
    "    if invalid_rows.any():\n",
    "        print(f\"Warning: invalid value in {key}, content: {mappped_df[key][invalid_rows]}\")\n",
    "    # drop the row with None\n",
    "    mappped_df[key].dropna(inplace=True, axis=0, how=\"any\")\n",
    "    # reset the index\n",
    "    mappped_df[key] = mappped_df[key].reset_index(drop=True)"
   ]
  },
  {
   "cell_type": "code",
   "execution_count": null,
   "id": "ff3652bb",
   "metadata": {},
   "outputs": [],
   "source": [
    "mappped_df"
   ]
  },
  {
   "cell_type": "code",
   "execution_count": null,
   "id": "c107f236",
   "metadata": {},
   "outputs": [],
   "source": [
    "# a example of the atom_labels, this is not used in the code\n",
    "atom_labels = {\n",
    "    \"log_name\": \"log_name\",\n",
    "    0: \"C4\",\n",
    "    1: \"C5\",\n",
    "    2: \"N1\",\n",
    "    3: \"C1\",\n",
    "    4: \"C2\",\n",
    "    5: \"C3\",\n",
    "}\n",
    "\n",
    "atom_label_mappings_dict = {}\n",
    "display_buttons = {}\n",
    "\n",
    "\n",
    "def create_button_handler(prefix, atom_labels):\n",
    "    def on_submit_button_clicked(b):\n",
    "        # Collect the inputs into the atom_labels dictionary\n",
    "        atom_label_mappings_dict[prefix] = {\n",
    "            col: atom_labels[col].value for col in mappped_df[prefix].columns\n",
    "        }\n",
    "        print(f\"Atom labels for prefix '{prefix}': {atom_label_mappings_dict[prefix]}\")\n",
    "\n",
    "        img_list = []\n",
    "\n",
    "        # at the same time, for each row, load the molecule from the sdf file, add the atom labels based on the atom_labels_dict and highlight the substructure\n",
    "        for index, row in mappped_df[prefix].iterrows():\n",
    "            log_file = row[\"log_name\"] + \".sdf\"\n",
    "            molecule = Chem.SDMolSupplier(log_file, removeHs=False)[0]\n",
    "            Chem.rdDepictor.Compute2DCoords(molecule)\n",
    "\n",
    "            highlight_atoms = []\n",
    "\n",
    "            # the header will be the new atom labels the cell content is the atom symbol + 1-indexed atom number\n",
    "            for col in atom_label_mappings_dict[prefix]:\n",
    "                if col == \"log_name\":\n",
    "                    continue\n",
    "                atom_num = row[col]\n",
    "                # parse the atom number to get the atom index\n",
    "                atom_num = int(re.findall(r\"\\d+\", atom_num)[0]) - 1\n",
    "                highlight_atoms.append(atom_num)\n",
    "                molecule.GetAtomWithIdx(int(atom_num)).SetProp(\n",
    "                    \"atomLabel\", atom_label_mappings_dict[prefix][col]\n",
    "                )\n",
    "\n",
    "            # Prepare the highlight color dictionary, make the last two atom gold, other aqua\n",
    "            highlight_colors = {}\n",
    "            for atom in highlight_atoms[:-2]:\n",
    "                highlight_colors[atom] = ColorConverter().to_rgb(\"aqua\")\n",
    "            for atom in highlight_atoms[-2:]:\n",
    "                highlight_colors[atom] = ColorConverter().to_rgb(\"gold\")\n",
    "\n",
    "            # Create a drawer\n",
    "            drawer = Chem.Draw.rdMolDraw2D.MolDraw2DCairo(\n",
    "                500, 500\n",
    "            )  # Use Cairo backend for drawing\n",
    "            drawer.drawOptions().continuousHighlight = True\n",
    "            # Prepare highlight dictionary\n",
    "            drawer.DrawMolecule(\n",
    "                molecule,\n",
    "                highlightAtoms=highlight_atoms,\n",
    "                highlightAtomColors=highlight_colors,\n",
    "            )\n",
    "            drawer.FinishDrawing()\n",
    "\n",
    "            png_data = drawer.GetDrawingText()\n",
    "            img = Image.open(io.BytesIO(png_data))\n",
    "            img_list.append(img)\n",
    "\n",
    "        draw_grid_image(\n",
    "            img_list,\n",
    "            mappped_df[prefix][\"log_name\"],\n",
    "            3,\n",
    "            prefix,\n",
    "            \"common_structure_reassigned_\",\n",
    "        )\n",
    "\n",
    "    return on_submit_button_clicked\n",
    "\n",
    "\n",
    "for prefix in log_prefix:\n",
    "    atom_labels = {}\n",
    "    print(f\"Please input atom labels for prefix '{prefix}':\")\n",
    "    # Display the DataFrame to the user\n",
    "    display(mappped_df[prefix])\n",
    "\n",
    "    # Create input boxes for each column in the DataFrame\n",
    "    for col in mappped_df[prefix].columns:\n",
    "        atom_label = widgets.Text(\n",
    "            value=\"log_name\" if col == \"log_name\" else \"\",\n",
    "            placeholder=f\"Enter label for {col}\",\n",
    "            description=f\"{col}:\",\n",
    "            disabled=False,\n",
    "        )\n",
    "        display(atom_label)\n",
    "        atom_labels[col] = atom_label\n",
    "\n",
    "    # Add a button to submit the inputs\n",
    "    display_buttons[prefix] = widgets.Button(description=\"Submit\")\n",
    "\n",
    "    # Create and attach the button handler\n",
    "    display_buttons[prefix].on_click(create_button_handler(prefix, atom_labels))\n",
    "    display(display_buttons[prefix])"
   ]
  },
  {
   "cell_type": "markdown",
   "id": "7e5ccc51",
   "metadata": {},
   "source": [
    "##### You can check the new mapping dictionary by running the next cell.\n",
    "### <p style=\"font-family: Arial; color: gold; font-weight: bold;\"> **User input required in above cell output!!!** </p>"
   ]
  },
  {
   "cell_type": "code",
   "execution_count": null,
   "id": "1011a3ed",
   "metadata": {},
   "outputs": [],
   "source": [
    "# check the length of the dict, if it is not equal to the length of the log_prefix, throw a exception indicating that the user needs to input all the atom labels before proceeding\n",
    "if len(atom_label_mappings_dict) != len(log_prefix):\n",
    "    raise Exception(\n",
    "        f\"Please input atom labels for all prefixes before proceeding to the next step. You have inputted the following prefixes: {list(atom_label_mappings_dict.keys())}\\n Please input the atom labels for the following prefixes: {set(log_prefix.keys()) - set(atom_label_mappings_dict.keys())}\"\n",
    "    )\n",
    "\n",
    "format_dict_print(atom_label_mappings_dict)"
   ]
  },
  {
   "cell_type": "markdown",
   "id": "1e5ee6d9",
   "metadata": {
    "heading_collapsed": true
   },
   "source": [
    "## &emsp;**3.3 Generate labeled dataframe**\n",
    "\n",
    "##### &emsp;&emsp;**NOTE: it is very important you assign these correctly otherwise the properties you collect will be for the wrong atoms and not produce meaningful correlations.** <br> &emsp;&emsp;Numbering for different conformers of the same compounds will likely be the same (but may not be for some symmetrical groups)."
   ]
  },
  {
   "cell_type": "code",
   "execution_count": null,
   "id": "7f3c5582",
   "metadata": {
    "ExecuteTime": {
     "end_time": "2022-04-08T15:52:56.563871Z",
     "start_time": "2022-04-08T15:52:56.511805Z"
    },
    "hidden": true,
    "scrolled": false
   },
   "outputs": [],
   "source": [
    "# rename columns using the user input above\n",
    "for prefix in log_prefix:\n",
    "    mappped_df[prefix] = mappped_df[prefix].rename(columns=atom_label_mappings_dict[prefix])\n",
    "    display(mappped_df[prefix])\n",
    "\n",
    "    # you can use this to clean up the table if you have more atoms in your substructure than you want to collect descriptors for\n",
    "    # mappped_df[prefix] = mappped_df[prefix].drop(columns= ['C4', 'C1'])\n",
    "    # display(mappped_df[prefix])"
   ]
  },
  {
   "cell_type": "markdown",
   "id": "eb276cfd",
   "metadata": {
    "heading_collapsed": true
   },
   "source": [
    "##### &emsp;&emsp; Save atom map to Excel, they will be named atom_map_prefix.xlsx"
   ]
  },
  {
   "cell_type": "code",
   "execution_count": null,
   "id": "e97b1371",
   "metadata": {
    "ExecuteTime": {
     "end_time": "2022-03-24T20:41:27.350748Z",
     "start_time": "2022-03-24T20:41:27.287874Z"
    },
    "hidden": true
   },
   "outputs": [],
   "source": [
    "for prefix in log_prefix:\n",
    "    writer = pd.ExcelWriter(f\"{prefix}_atom_map.xlsx\")\n",
    "    mappped_df[prefix].to_excel(writer)\n",
    "    writer.close()"
   ]
  },
  {
   "cell_type": "markdown",
   "id": "f34a1454",
   "metadata": {},
   "source": [
    "# <p style=\"font-family: Arial; color: gold; font-weight: bold;\"> Now we have completed the preprocessing of the atom map, we can move on to the next step to proprocess the properties of the molecule, see get_properties_notebook_ + prefex notebook </p>"
   ]
  }
 ],
 "metadata": {
  "kernelspec": {
   "display_name": ".venv",
   "language": "python",
   "name": "python3"
  },
  "language_info": {
   "codemirror_mode": {
    "name": "ipython",
    "version": 3
   },
   "file_extension": ".py",
   "mimetype": "text/x-python",
   "name": "python",
   "nbconvert_exporter": "python",
   "pygments_lexer": "ipython3",
   "version": "3.11.5"
  },
  "toc": {
   "base_numbering": 1,
   "nav_menu": {},
   "number_sections": true,
   "sideBar": true,
   "skip_h1_title": false,
   "title_cell": "Table of Contents",
   "title_sidebar": "Contents",
   "toc_cell": false,
   "toc_position": {
    "height": "calc(100% - 180px)",
    "left": "10px",
    "top": "150px",
    "width": "480px"
   },
   "toc_section_display": true,
   "toc_window_display": true
  },
  "varInspector": {
   "cols": {
    "lenName": 16,
    "lenType": 16,
    "lenVar": 40
   },
   "kernels_config": {
    "python": {
     "delete_cmd_postfix": "",
     "delete_cmd_prefix": "del ",
     "library": "var_list.py",
     "varRefreshCmd": "print(var_dic_list())"
    },
    "r": {
     "delete_cmd_postfix": ") ",
     "delete_cmd_prefix": "rm(",
     "library": "var_list.r",
     "varRefreshCmd": "cat(var_dic_list()) "
    }
   },
   "types_to_exclude": [
    "module",
    "function",
    "builtin_function_or_method",
    "instance",
    "_Feature"
   ],
   "window_display": false
  }
 },
 "nbformat": 4,
 "nbformat_minor": 5
}
