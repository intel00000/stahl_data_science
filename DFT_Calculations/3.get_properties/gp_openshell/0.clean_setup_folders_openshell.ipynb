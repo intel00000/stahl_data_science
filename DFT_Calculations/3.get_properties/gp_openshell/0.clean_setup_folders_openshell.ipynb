{
 "cells": [
  {
   "cell_type": "markdown",
   "metadata": {},
   "source": [
    "### <p style=\"font-family: Arial; color: gold; font-weight: bold;\"> Well, if you want to start fresh, run this notebook to clean ALL FILES and resetup the environment. </p>"
   ]
  },
  {
   "cell_type": "code",
   "execution_count": 1,
   "metadata": {},
   "outputs": [],
   "source": [
    "import os\n",
    "import glob\n",
    "import shutil\n",
    "\n",
    "from helper_functions import setup_and_clean_folder"
   ]
  },
  {
   "cell_type": "markdown",
   "metadata": {},
   "source": [
    "### <p style=\"font-family: Arial; color: gold; font-weight: bold;\"> Below setup the folder for the preprocess notebook. </p>"
   ]
  },
  {
   "cell_type": "code",
   "execution_count": 2,
   "metadata": {},
   "outputs": [],
   "source": [
    "common_structure_folder = \"1.common_structure\"\n",
    "log_files_folder = \"2.log_files\"\n",
    "sdf_files_folder = \"3.sdf_files\"\n",
    "temp_folder = \"temp\"\n",
    "output_folder = \"4.atom_mappings\"\n",
    "\n",
    "# Clean and prepare all folders\n",
    "folders = [\n",
    "    common_structure_folder,\n",
    "    log_files_folder,\n",
    "    sdf_files_folder,\n",
    "    temp_folder,\n",
    "    output_folder,\n",
    "]\n",
    "for folder in folders:\n",
    "    setup_and_clean_folder(folder)"
   ]
  },
  {
   "cell_type": "markdown",
   "metadata": {},
   "source": [
    "### <p style=\"font-family: Arial; color: gold; font-weight: bold;\">Requirements: <br>Draw each common structure in ChemDraw and save them as prefix.cdxml into the 1.common_structure folder.<br> Put ALL .log files in the 2.log_files folder. <br> Put ALL .sdf files in the 3.sdf_files folder.\n",
    "\n",
    "##### Prefix notes: For example, prefix pyrd represents pyridine, then the script expected to find pyrd.cdxml with only a pyridine structure in it. This script relies on these common structures to find the benzylic hydrogen to remove\n",
    "\n",
    "### <p style=\"font-family: Arial; color: gold; font-weight: bold;\"> (Optional) If you ran the 2.preprocess workflow before, run the following cell to copy the common structure and sdf files to the current folder. </p>\n",
    "### <p style=\"font-family: Arial; color: red; font-weight: bold;\"> (Attention) You still need to put the DFT log files in the 2.log_files folder. </p>"
   ]
  },
  {
   "cell_type": "code",
   "execution_count": 3,
   "metadata": {},
   "outputs": [
    {
     "name": "stdout",
     "output_type": "stream",
     "text": [
      "Copied 12 files into 1.common_structure\n",
      "Copied 252 files into 3.sdf_files\n"
     ]
    }
   ],
   "source": [
    "preprocess_folder = os.path.join(os.pardir, os.pardir, \"2.preprocess\")\n",
    "# copy ALL .cdxml files from ../2.preprocess/1.common_structure into 1.common_structure\n",
    "counter = 0\n",
    "for file in glob.glob(\"*.cdxml\", root_dir=os.path.join(preprocess_folder, \"1.common_structure\")):\n",
    "    counter += 1\n",
    "    shutil.copy(os.path.join(preprocess_folder, \"1.common_structure\", file), common_structure_folder)\n",
    "print(f\"Copied {counter} files into {common_structure_folder}\")\n",
    "\n",
    "# copy ALL .sdf files from ../2.preprocess/3.open_shell_sdf_filtered into 3.sdf_files\n",
    "counter = 0\n",
    "for file in glob.glob(\"*.sdf\", root_dir=os.path.join(preprocess_folder, \"3.open_shell_sdf_filtered\")):\n",
    "    counter += 1\n",
    "    shutil.copy(os.path.join(preprocess_folder, \"3.open_shell_sdf_filtered\", file), sdf_files_folder)\n",
    "print(f\"Copied {counter} files into {sdf_files_folder}\")"
   ]
  },
  {
   "cell_type": "markdown",
   "metadata": {},
   "source": [
    "### <p style=\"font-family: Arial; color: gold; font-weight: bold;\"> Below setup the folder for the postprocessing notebook. </p>"
   ]
  },
  {
   "cell_type": "code",
   "execution_count": 4,
   "metadata": {},
   "outputs": [],
   "source": [
    "output_folder = \"5.postprocessed_results\"\n",
    "\n",
    "# Clean and prepare all folders\n",
    "folders = [\n",
    "    output_folder,\n",
    "]\n",
    "\n",
    "for folder in folders:\n",
    "    setup_and_clean_folder(folder)"
   ]
  }
 ],
 "metadata": {
  "kernelspec": {
   "display_name": ".venv",
   "language": "python",
   "name": "python3"
  },
  "language_info": {
   "codemirror_mode": {
    "name": "ipython",
    "version": 3
   },
   "file_extension": ".py",
   "mimetype": "text/x-python",
   "name": "python",
   "nbconvert_exporter": "python",
   "pygments_lexer": "ipython3",
   "version": "3.11.5"
  }
 },
 "nbformat": 4,
 "nbformat_minor": 2
}
