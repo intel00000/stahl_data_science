{
 "cells": [
  {
   "cell_type": "code",
   "execution_count": 1,
   "metadata": {},
   "outputs": [
    {
     "name": "stdout",
     "output_type": "stream",
     "text": [
      "RandomState(0): RandomState(MT19937) at 139868496851776\n",
      "First 10 random floating-point numbers from np.random.RandomState(0):\n",
      "[0.5488135  0.71518937 0.60276338 0.54488318 0.4236548  0.64589411\n",
      " 0.43758721 0.891773   0.96366276 0.38344152]\n",
      "\n",
      "First 10 random integers between 0 and 99 from np.random.RandomState(0):\n",
      "[39 87 46 88 81 37 25 77 72  9 20 80 69 79 47 64 82 99 88 49 29 19 19 14\n",
      " 39 32 65  9 57 32 31 74 23 35 75 55 28 34  0  0 36 53  5 38 17 79  4 42\n",
      " 58 31  1 65 41 57 35 11 46 82 91  0 14 99 53 12 42 84 75 68  6 68 47  3\n",
      " 76 52 78 15 20 99 58 23 79 13 85 48 49 69 41 35 64 95 69 94  0 50 36 34\n",
      " 48 93  3 98]\n"
     ]
    }
   ],
   "source": [
    "import numpy as np\n",
    "\n",
    "np.random.seed(0)\n",
    "# Initialize the RandomState with seed 0\n",
    "rs = np.random.RandomState(0)\n",
    "\n",
    "# print the random state\n",
    "print(f\"RandomState(0): {rs} at {id(rs)}\")\n",
    "\n",
    "# Generate the first 10 random floating-point numbers between 0 and 1\n",
    "random_numbers = rs.rand(10)\n",
    "\n",
    "# Print the random numbers\n",
    "print(\"First 10 random floating-point numbers from np.random.RandomState(0):\")\n",
    "print(random_numbers)\n",
    "\n",
    "# Generate the first 10 random integers between 0 and 99\n",
    "random_integers = rs.randint(0, 100, size=100)\n",
    "\n",
    "# Print the random integers\n",
    "print(\"\\nFirst 10 random integers between 0 and 99 from np.random.RandomState(0):\")\n",
    "print(random_integers)"
   ]
  }
 ],
 "metadata": {
  "kernelspec": {
   "display_name": "arylbr_linux",
   "language": "python",
   "name": "python3"
  },
  "language_info": {
   "codemirror_mode": {
    "name": "ipython",
    "version": 3
   },
   "file_extension": ".py",
   "mimetype": "text/x-python",
   "name": "python",
   "nbconvert_exporter": "python",
   "pygments_lexer": "ipython3",
   "version": "3.12.7"
  }
 },
 "nbformat": 4,
 "nbformat_minor": 2
}
